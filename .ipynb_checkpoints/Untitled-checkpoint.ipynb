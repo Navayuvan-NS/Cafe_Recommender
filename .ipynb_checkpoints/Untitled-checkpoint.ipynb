{
 "cells": [
  {
   "cell_type": "code",
   "execution_count": 6,
   "metadata": {},
   "outputs": [],
   "source": [
    "from tkinter import *\n",
    "import tkinter.ttk as ttk\n",
    "import tkinter.filedialog\n",
    "import tkinter as tk"
   ]
  },
  {
   "cell_type": "code",
   "execution_count": 10,
   "metadata": {},
   "outputs": [],
   "source": [
    "class Cafe_R(tk.Tk):\n",
    "    def __init__(self):\n",
    "        tk.Tk.__init__(self)\n",
    "        \n",
    "        mw = tkinter.Tk()\n",
    "        mw.title(\"Cafe\")\n",
    "        mw.geometry(\"1200x800\")\n",
    "        mw.resizable(0,0)\n",
    "        \n",
    "        frame1 = Frame(mw, bg=\"#00e673\", width=1200, height=120, highlightbackground=\"black\", highlightcolor=\"black\", highlightthickness=1)\n",
    "        frame1.grid(row=0,column=0,columnspan=3)\n",
    "\n",
    "        frame2 = Frame(mw, bg=\"#00e673\", width=1200, height=120, highlightbackground=\"black\", highlightcolor=\"black\", highlightthickness=1)\n",
    "        frame2.grid(row=1,column=0,columnspan=3)\n",
    "        \n",
    "        frame3 = Frame(mw, bg=\"yellow\", width=1200, height=560, highlightbackground=\"black\", highlightcolor=\"black\", highlightthickness=1)\n",
    "        frame3.grid(row=2,column=0,columnspan=3)\n",
    "        \n",
    "        frame4 = Frame(frame3, bg=\"#00e673\", width=80, height=560, highlightbackground=\"black\", highlightcolor=\"black\", highlightthickness=1)\n",
    "        frame4.grid(row=0,column=0,columnspan=1)\n",
    "        frame5 = Frame(frame3, bg=\"#00e673\", width=560, height=560, highlightbackground=\"black\", highlightcolor=\"black\", highlightthickness=1)\n",
    "        frame5.grid(row=0,column=1,columnspan=1)\n",
    "        frame6 = Frame(frame3, bg=\"#00e673\", width=560, height=560, highlightbackground=\"black\", highlightcolor=\"black\", highlightthickness=1)\n",
    "        frame6.grid(row=0,column=2,columnspan=1)\n",
    "        \n",
    "        frame1.grid_propagate(0)\n",
    "        cafe_l = Label(frame1,fg=\"red\",text=\"CAFE RECOMMENDER\",bg=\"#00e673\")\n",
    "        cafe_l.config(font=(\"courier\", 32))\n",
    "        cafe_l.place(x=600,y=56, anchor=\"center\")\n",
    "\n",
    "        frame2.grid_propagate(0)\n",
    "        update_cafe = Button(frame2, text=\"Update Cafe Data\", bg=\"red\", fg=\"white\", width=20, height=3,command = load_cafe_data())\n",
    "        update_cafe.config(font=(\"courier\", 12))\n",
    "        update_cafe.place(x=360, y=56, anchor=\"center\")\n",
    "        \n",
    "        upload_ratings = Button(frame2, text=\"Upload Ratings\", bg=\"red\", fg=\"white\", width=20, height=3)\n",
    "        upload_ratings.config(font=(\"courier\", 12))\n",
    "        upload_ratings.place(x=930, y=56, anchor=\"center\")\n",
    "        \n",
    "        \n",
    "        frame4.grid_propagate(0)\n",
    "        rating = Button(frame4,bg=\"red\",fg=\"white\",width=4,height=11,text=\"RATING\")\n",
    "        rating.place(x=40,y=100,anchor=\"center\")\n",
    "\n",
    "        recommend = Button(frame4,bg=\"red\",fg=\"white\",width=4,height=11,text=\"RECOMMEND\")\n",
    "        recommend.place(x=40,y=420,anchor=\"center\")\n",
    "        \n",
    "        frame5.grid_propagate(0)\n",
    "        choose_cafe = Label(frame5, bg=\"#00e673\", fg=\"black\", text=\"Choose Cafe\")\n",
    "        choose_cafe.config(font=(\"courier\", 20, 'bold'))\n",
    "        choose_cafe.place(x=280,y=50,anchor=\"center\")\n",
    "        \n",
    "        \n",
    "        cb = ttk.Combobox(frame5, values=(\"1\",\"2\",\"3\"))\n",
    "        cb.set(\"1\")\n",
    "        cb.place(x=280,y=150,anchor=\"center\")\n",
    "        \n",
    "        choose_rating = Label(frame5, bg=\"#00e673\", fg=\"black\", text=\"Choose Rating\")\n",
    "        choose_rating.config(font=(\"courier\", 20, 'bold'))\n",
    "        choose_rating.place(x=280,y=250,anchor=\"center\")\n",
    "\n",
    "        scale = Scale(frame5, from_=0, to=10, orient=HORIZONTAL,length=300)\n",
    "        scale.place(x=280,y=350,anchor=\"center\")\n",
    "        \n",
    "        add = Button(frame5, text=\"ADD\", bg=\"red\", fg=\"white\", width=15, height=2)\n",
    "        add.config(font=(\"courier\", 12))\n",
    "        add.place(x=280, y=450, anchor=\"center\")\n",
    "        \n",
    "        frame6.grid_propagate(0)\n",
    "\n",
    "        style = ttk.Style(frame6)\n",
    "        style.configure('Treeview', rowheight=40)\n",
    "        tree = ttk.Treeview(frame6, columns=('Cafe'))\n",
    "        tree.heading('#0',text='Cafe')\n",
    "        tree.heading('#1',text='Rating')\n",
    "        tree.column('#0', stretch=tkinter.YES)\n",
    "        tree.column('#1', stretch=tkinter.YES)\n",
    "        tree.place(x=220,y=250,anchor=\"center\")\n",
    "        \n",
    "        remove = Button(frame6, text=\"REMOVE\", bg=\"red\", fg=\"white\", width=8, height=2)\n",
    "        remove.config(font=(\"courier\", 12))\n",
    "        remove.place(x=500, y=300, anchor=\"center\")\n",
    "        \n",
    "    def load_cafe_data():\n",
    "        file_path = filedialog.askopenfilename()\n"
   ]
  },
  {
   "cell_type": "code",
   "execution_count": 11,
   "metadata": {},
   "outputs": [
    {
     "ename": "NameError",
     "evalue": "name 'load_cafe_data' is not defined",
     "output_type": "error",
     "traceback": [
      "\u001b[0;31m---------------------------------------------------------------------------\u001b[0m",
      "\u001b[0;31mNameError\u001b[0m                                 Traceback (most recent call last)",
      "\u001b[0;32m<ipython-input-11-03787d14dd27>\u001b[0m in \u001b[0;36m<module>\u001b[0;34m()\u001b[0m\n\u001b[0;32m----> 1\u001b[0;31m \u001b[0mgui\u001b[0m \u001b[0;34m=\u001b[0m \u001b[0mCafe_R\u001b[0m\u001b[0;34m(\u001b[0m\u001b[0;34m)\u001b[0m\u001b[0;34m\u001b[0m\u001b[0m\n\u001b[0m\u001b[1;32m      2\u001b[0m \u001b[0mgui\u001b[0m\u001b[0;34m.\u001b[0m\u001b[0mmainloop\u001b[0m\u001b[0;34m(\u001b[0m\u001b[0;34m)\u001b[0m\u001b[0;34m\u001b[0m\u001b[0m\n",
      "\u001b[0;32m<ipython-input-10-8eabc90093c8>\u001b[0m in \u001b[0;36m__init__\u001b[0;34m(self)\u001b[0m\n\u001b[1;32m     30\u001b[0m \u001b[0;34m\u001b[0m\u001b[0m\n\u001b[1;32m     31\u001b[0m         \u001b[0mframe2\u001b[0m\u001b[0;34m.\u001b[0m\u001b[0mgrid_propagate\u001b[0m\u001b[0;34m(\u001b[0m\u001b[0;36m0\u001b[0m\u001b[0;34m)\u001b[0m\u001b[0;34m\u001b[0m\u001b[0m\n\u001b[0;32m---> 32\u001b[0;31m         \u001b[0mupdate_cafe\u001b[0m \u001b[0;34m=\u001b[0m \u001b[0mButton\u001b[0m\u001b[0;34m(\u001b[0m\u001b[0mframe2\u001b[0m\u001b[0;34m,\u001b[0m \u001b[0mtext\u001b[0m\u001b[0;34m=\u001b[0m\u001b[0;34m\"Update Cafe Data\"\u001b[0m\u001b[0;34m,\u001b[0m \u001b[0mbg\u001b[0m\u001b[0;34m=\u001b[0m\u001b[0;34m\"red\"\u001b[0m\u001b[0;34m,\u001b[0m \u001b[0mfg\u001b[0m\u001b[0;34m=\u001b[0m\u001b[0;34m\"white\"\u001b[0m\u001b[0;34m,\u001b[0m \u001b[0mwidth\u001b[0m\u001b[0;34m=\u001b[0m\u001b[0;36m20\u001b[0m\u001b[0;34m,\u001b[0m \u001b[0mheight\u001b[0m\u001b[0;34m=\u001b[0m\u001b[0;36m3\u001b[0m\u001b[0;34m,\u001b[0m\u001b[0mcommand\u001b[0m \u001b[0;34m=\u001b[0m \u001b[0mload_cafe_data\u001b[0m\u001b[0;34m(\u001b[0m\u001b[0;34m)\u001b[0m\u001b[0;34m)\u001b[0m\u001b[0;34m\u001b[0m\u001b[0m\n\u001b[0m\u001b[1;32m     33\u001b[0m         \u001b[0mupdate_cafe\u001b[0m\u001b[0;34m.\u001b[0m\u001b[0mconfig\u001b[0m\u001b[0;34m(\u001b[0m\u001b[0mfont\u001b[0m\u001b[0;34m=\u001b[0m\u001b[0;34m(\u001b[0m\u001b[0;34m\"courier\"\u001b[0m\u001b[0;34m,\u001b[0m \u001b[0;36m12\u001b[0m\u001b[0;34m)\u001b[0m\u001b[0;34m)\u001b[0m\u001b[0;34m\u001b[0m\u001b[0m\n\u001b[1;32m     34\u001b[0m         \u001b[0mupdate_cafe\u001b[0m\u001b[0;34m.\u001b[0m\u001b[0mplace\u001b[0m\u001b[0;34m(\u001b[0m\u001b[0mx\u001b[0m\u001b[0;34m=\u001b[0m\u001b[0;36m360\u001b[0m\u001b[0;34m,\u001b[0m \u001b[0my\u001b[0m\u001b[0;34m=\u001b[0m\u001b[0;36m56\u001b[0m\u001b[0;34m,\u001b[0m \u001b[0manchor\u001b[0m\u001b[0;34m=\u001b[0m\u001b[0;34m\"center\"\u001b[0m\u001b[0;34m)\u001b[0m\u001b[0;34m\u001b[0m\u001b[0m\n",
      "\u001b[0;31mNameError\u001b[0m: name 'load_cafe_data' is not defined"
     ]
    }
   ],
   "source": [
    "gui = Cafe_R()\n",
    "gui.mainloop()"
   ]
  }
 ],
 "metadata": {
  "kernelspec": {
   "display_name": "Python 3",
   "language": "python",
   "name": "python3"
  },
  "language_info": {
   "codemirror_mode": {
    "name": "ipython",
    "version": 3
   },
   "file_extension": ".py",
   "mimetype": "text/x-python",
   "name": "python",
   "nbconvert_exporter": "python",
   "pygments_lexer": "ipython3",
   "version": "3.6.6"
  }
 },
 "nbformat": 4,
 "nbformat_minor": 2
}

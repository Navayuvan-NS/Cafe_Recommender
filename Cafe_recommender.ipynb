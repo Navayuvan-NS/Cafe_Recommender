{
 "cells": [
  {
   "cell_type": "code",
   "execution_count": 857,
   "metadata": {},
   "outputs": [],
   "source": [
    "from tkinter import *\n",
    "import tkinter.ttk as ttk\n",
    "import tkinter.filedialog\n",
    "import pandas as pd\n",
    "import xlrd"
   ]
  },
  {
   "cell_type": "code",
   "execution_count": 858,
   "metadata": {},
   "outputs": [],
   "source": [
    "mw = tkinter.Tk()"
   ]
  },
  {
   "cell_type": "code",
   "execution_count": 859,
   "metadata": {
    "scrolled": true
   },
   "outputs": [
    {
     "data": {
      "text/plain": [
       "''"
      ]
     },
     "execution_count": 859,
     "metadata": {},
     "output_type": "execute_result"
    }
   ],
   "source": [
    "mw.title(\"Cafe\")"
   ]
  },
  {
   "cell_type": "code",
   "execution_count": 860,
   "metadata": {
    "scrolled": true
   },
   "outputs": [
    {
     "data": {
      "text/plain": [
       "''"
      ]
     },
     "execution_count": 860,
     "metadata": {},
     "output_type": "execute_result"
    }
   ],
   "source": [
    "mw.geometry(\"1200x800\")"
   ]
  },
  {
   "cell_type": "code",
   "execution_count": 861,
   "metadata": {},
   "outputs": [
    {
     "data": {
      "text/plain": [
       "''"
      ]
     },
     "execution_count": 861,
     "metadata": {},
     "output_type": "execute_result"
    }
   ],
   "source": [
    "mw.resizable(0,0)"
   ]
  },
  {
   "cell_type": "markdown",
   "metadata": {},
   "source": [
    "# Function to parse .xlsx file "
   ]
  },
  {
   "cell_type": "code",
   "execution_count": 862,
   "metadata": {},
   "outputs": [],
   "source": [
    "def load_cafe_data():\n",
    "    \n",
    "    global cafe_l\n",
    "    cafe_l=()\n",
    "    file_path = filedialog.askopenfilename()\n",
    "    loc = (file_path)\n",
    "    \n",
    "    wb = xlrd.open_workbook(loc)\n",
    "    sheet = wb.sheet_by_index(0)\n",
    "    for i in range (1,sheet.nrows):\n",
    "        s = sheet.cell_value(i, 0)\n",
    "        cafe_l = cafe_l + (s,)\n",
    "    cb['values'] = cafe_l"
   ]
  },
  {
   "cell_type": "markdown",
   "metadata": {},
   "source": [
    "# Frame 1 "
   ]
  },
  {
   "cell_type": "code",
   "execution_count": 863,
   "metadata": {},
   "outputs": [],
   "source": [
    "frame1 = Frame(mw, bg=\"#00e673\", width=1200, height=120, highlightbackground=\"black\", highlightcolor=\"black\", highlightthickness=1)\n",
    "frame1.grid(row=0,column=0,columnspan=3)"
   ]
  },
  {
   "cell_type": "markdown",
   "metadata": {},
   "source": [
    "# Frame 2"
   ]
  },
  {
   "cell_type": "code",
   "execution_count": 864,
   "metadata": {},
   "outputs": [],
   "source": [
    "frame2 = Frame(mw, bg=\"#00e673\", width=1200, height=120, highlightbackground=\"black\", highlightcolor=\"black\", highlightthickness=1)\n",
    "frame2.grid(row=1,column=0,columnspan=3)"
   ]
  },
  {
   "cell_type": "markdown",
   "metadata": {},
   "source": [
    "# Frame 3 "
   ]
  },
  {
   "cell_type": "code",
   "execution_count": 865,
   "metadata": {},
   "outputs": [],
   "source": [
    "frame3 = Frame(mw, bg=\"yellow\", width=1200, height=560, highlightbackground=\"black\", highlightcolor=\"black\", highlightthickness=1)\n",
    "frame3.grid(row=2,column=0,columnspan=3)"
   ]
  },
  {
   "cell_type": "markdown",
   "metadata": {},
   "source": [
    "# Sub Frames of Frame 3 \n",
    "    ~Frame 4\n",
    "    ~Frame 5\n",
    "    ~Frame 6"
   ]
  },
  {
   "cell_type": "code",
   "execution_count": 866,
   "metadata": {},
   "outputs": [],
   "source": [
    "frame4 = Frame(frame3, bg=\"#00e673\", width=80, height=560, highlightbackground=\"black\", highlightcolor=\"black\", highlightthickness=1)\n",
    "frame4.grid(row=0,column=0,columnspan=1)\n",
    "frame5 = Frame(frame3, bg=\"#00e673\", width=560, height=560, highlightbackground=\"black\", highlightcolor=\"black\", highlightthickness=1)\n",
    "frame5.grid(row=0,column=1,columnspan=1)\n",
    "frame6 = Frame(frame3, bg=\"#00e673\", width=560, height=560, highlightbackground=\"black\", highlightcolor=\"black\", highlightthickness=1)\n",
    "frame6.grid(row=0,column=2,columnspan=1)"
   ]
  },
  {
   "cell_type": "markdown",
   "metadata": {},
   "source": [
    "# Cafe recommender lable "
   ]
  },
  {
   "cell_type": "code",
   "execution_count": 867,
   "metadata": {},
   "outputs": [],
   "source": [
    "frame1.grid_propagate(0)\n",
    "cafe_l = Label(frame1,fg=\"red\",text=\"CAFE RECOMMENDER\",bg=\"#00e673\")\n",
    "cafe_l.config(font=(\"courier\", 32))\n",
    "cafe_l.place(x=600,y=56, anchor=\"center\")"
   ]
  },
  {
   "cell_type": "markdown",
   "metadata": {},
   "source": [
    "# Two buttons in Frame 2 "
   ]
  },
  {
   "cell_type": "code",
   "execution_count": 868,
   "metadata": {},
   "outputs": [
    {
     "name": "stdout",
     "output_type": "stream",
     "text": [
      ".!frame.!label\n"
     ]
    }
   ],
   "source": [
    "frame2.grid_propagate(0)\n",
    "update_cafe = Button(frame2, text=\"Update Cafe Data\", bg=\"red\", fg=\"white\", width=20, height=3,command = load_cafe_data)\n",
    "update_cafe.config(font=(\"courier\", 12))\n",
    "update_cafe.place(x=360, y=56, anchor=\"center\")\n",
    "print(cafe_l)"
   ]
  },
  {
   "cell_type": "code",
   "execution_count": 869,
   "metadata": {},
   "outputs": [],
   "source": [
    "upload_ratings = Button(frame2, text=\"Upload Ratings\", bg=\"red\", fg=\"white\", width=20, height=3)\n",
    "upload_ratings.config(font=(\"courier\", 12))\n",
    "upload_ratings.place(x=930, y=56, anchor=\"center\")"
   ]
  },
  {
   "cell_type": "markdown",
   "metadata": {},
   "source": [
    "# Two buttons in Frame 4 "
   ]
  },
  {
   "cell_type": "code",
   "execution_count": 870,
   "metadata": {},
   "outputs": [],
   "source": [
    "frame4.grid_propagate(0)\n",
    "rating = Button(frame4,bg=\"red\",fg=\"white\",width=4,height=11,text=\"RATING\")\n",
    "rating.place(x=40,y=100,anchor=\"center\")"
   ]
  },
  {
   "cell_type": "code",
   "execution_count": 871,
   "metadata": {},
   "outputs": [],
   "source": [
    "recommend = Button(frame4,bg=\"red\",fg=\"white\",width=4,height=11,text=\"RECOMMEND\")\n",
    "recommend.place(x=40,y=420,anchor=\"center\")"
   ]
  },
  {
   "cell_type": "markdown",
   "metadata": {},
   "source": [
    "# Widgets in Frame 5 "
   ]
  },
  {
   "cell_type": "code",
   "execution_count": 872,
   "metadata": {},
   "outputs": [],
   "source": [
    "frame5.grid_propagate(0)\n",
    "choose_cafe = Label(frame5, bg=\"#00e673\", fg=\"black\", text=\"Choose Cafe\")\n",
    "choose_cafe.config(font=(\"courier\", 20, 'bold'))\n",
    "choose_cafe.place(x=280,y=50,anchor=\"center\")"
   ]
  },
  {
   "cell_type": "code",
   "execution_count": 873,
   "metadata": {},
   "outputs": [],
   "source": [
    "cb = ttk.Combobox(frame5,state=\"readonly\",values=cafe_l)\n",
    "cb.set(\"select\")\n",
    "cb.place(x=280,y=150,anchor=\"center\")"
   ]
  },
  {
   "cell_type": "code",
   "execution_count": 874,
   "metadata": {},
   "outputs": [],
   "source": [
    "choose_rating = Label(frame5, bg=\"#00e673\", fg=\"black\", text=\"Choose Rating\")\n",
    "choose_rating.config(font=(\"courier\", 20, 'bold'))\n",
    "choose_rating.place(x=280,y=250,anchor=\"center\")"
   ]
  },
  {
   "cell_type": "code",
   "execution_count": 875,
   "metadata": {},
   "outputs": [],
   "source": [
    "scale = Scale(frame5, from_=0, to=10, orient=HORIZONTAL,length=300)\n",
    "scale.place(x=280,y=350,anchor=\"center\")"
   ]
  },
  {
   "cell_type": "code",
   "execution_count": 876,
   "metadata": {},
   "outputs": [],
   "source": [
    "add = Button(frame5, text=\"ADD\", bg=\"red\", fg=\"white\", width=15, height=2)\n",
    "add.config(font=(\"courier\", 12))\n",
    "add.place(x=280, y=450, anchor=\"center\")"
   ]
  },
  {
   "cell_type": "markdown",
   "metadata": {},
   "source": [
    "# Widgets in Frame 6"
   ]
  },
  {
   "cell_type": "code",
   "execution_count": 877,
   "metadata": {},
   "outputs": [],
   "source": [
    "frame6.grid_propagate(0)\n",
    "style = ttk.Style(frame6)\n",
    "style.configure('Treeview', rowheight=40)\n",
    "tree = ttk.Treeview(frame6, columns=('Cafe'))\n",
    "tree.heading('#0',text='Cafe')\n",
    "tree.heading('#1',text='Rating')\n",
    "tree.column('#0', stretch=tkinter.YES)\n",
    "tree.column('#1', stretch=tkinter.YES)\n",
    "tree.place(x=220,y=250,anchor=\"center\")"
   ]
  },
  {
   "cell_type": "code",
   "execution_count": 878,
   "metadata": {},
   "outputs": [],
   "source": [
    "remove = Button(frame6, text=\"REMOVE\", bg=\"red\", fg=\"white\", width=8, height=2)\n",
    "remove.config(font=(\"courier\", 12))\n",
    "remove.place(x=500, y=300, anchor=\"center\")"
   ]
  },
  {
   "cell_type": "markdown",
   "metadata": {},
   "source": [
    "# Mainloop"
   ]
  },
  {
   "cell_type": "code",
   "execution_count": null,
   "metadata": {},
   "outputs": [
    {
     "name": "stderr",
     "output_type": "stream",
     "text": [
      "Exception in Tkinter callback\n",
      "Traceback (most recent call last):\n",
      "  File \"/home/ns/anaconda3/envs/tf/lib/python3.6/tkinter/__init__.py\", line 1702, in __call__\n",
      "    return self.func(*args)\n",
      "  File \"<ipython-input-862-e33b76d55a6e>\", line 8, in load_cafe_data\n",
      "    wb = xlrd.open_workbook(loc)\n",
      "  File \"/home/ns/anaconda3/envs/tf/lib/python3.6/site-packages/xlrd/__init__.py\", line 116, in open_workbook\n",
      "    with open(filename, \"rb\") as f:\n",
      "FileNotFoundError: [Errno 2] No such file or directory: ''\n"
     ]
    }
   ],
   "source": [
    "mw.mainloop()"
   ]
  }
 ],
 "metadata": {
  "kernelspec": {
   "display_name": "Python 3",
   "language": "python",
   "name": "python3"
  },
  "language_info": {
   "codemirror_mode": {
    "name": "ipython",
    "version": 3
   },
   "file_extension": ".py",
   "mimetype": "text/x-python",
   "name": "python",
   "nbconvert_exporter": "python",
   "pygments_lexer": "ipython3",
   "version": "3.6.6"
  }
 },
 "nbformat": 4,
 "nbformat_minor": 2
}
